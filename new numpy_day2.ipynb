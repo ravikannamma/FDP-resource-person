{
  "nbformat": 4,
  "nbformat_minor": 0,
  "metadata": {
    "colab": {
      "provenance": [],
      "authorship_tag": "ABX9TyPRdTZs8oEnGcG3pQBgMWDa",
      "include_colab_link": true
    },
    "kernelspec": {
      "name": "python3",
      "display_name": "Python 3"
    },
    "language_info": {
      "name": "python"
    }
  },
  "cells": [
    {
      "cell_type": "markdown",
      "metadata": {
        "id": "view-in-github",
        "colab_type": "text"
      },
      "source": [
        "<a href=\"https://colab.research.google.com/github/ravikannamma/FDP-resource-person/blob/main/new%20numpy_day2.ipynb\" target=\"_parent\"><img src=\"https://colab.research.google.com/assets/colab-badge.svg\" alt=\"Open In Colab\"/></a>"
      ]
    },
    {
      "cell_type": "code",
      "execution_count": 44,
      "metadata": {
        "colab": {
          "base_uri": "https://localhost:8080/",
          "height": 211
        },
        "id": "_oayhCQ2HPyR",
        "outputId": "b76f7f91-2300-4d9e-8ce4-20a3c18bf8a9"
      },
      "outputs": [
        {
          "output_type": "error",
          "ename": "TypeError",
          "evalue": "arange() got an unexpected keyword argument 'type'",
          "traceback": [
            "\u001b[0;31m---------------------------------------------------------------------------\u001b[0m",
            "\u001b[0;31mTypeError\u001b[0m                                 Traceback (most recent call last)",
            "\u001b[0;32m<ipython-input-44-73be8751a065>\u001b[0m in \u001b[0;36m<cell line: 6>\u001b[0;34m()\u001b[0m\n\u001b[1;32m      4\u001b[0m \u001b[0;34m\u001b[0m\u001b[0m\n\u001b[1;32m      5\u001b[0m \u001b[0;31m# Generate an array from 0 to 4 (exclusive) with default step size 1\u001b[0m\u001b[0;34m\u001b[0m\u001b[0;34m\u001b[0m\u001b[0m\n\u001b[0;32m----> 6\u001b[0;31m \u001b[0marr1\u001b[0m \u001b[0;34m=\u001b[0m \u001b[0mnp\u001b[0m\u001b[0;34m.\u001b[0m\u001b[0marange\u001b[0m\u001b[0;34m(\u001b[0m\u001b[0;36m5\u001b[0m\u001b[0;34m,\u001b[0m\u001b[0;36m1\u001b[0m\u001b[0;34m,\u001b[0m\u001b[0mtype\u001b[0m\u001b[0;34m=\u001b[0m\u001b[0mnp\u001b[0m\u001b[0;34m.\u001b[0m\u001b[0muint8\u001b[0m\u001b[0;34m)\u001b[0m\u001b[0;34m\u001b[0m\u001b[0;34m\u001b[0m\u001b[0m\n\u001b[0m\u001b[1;32m      7\u001b[0m \u001b[0mprint\u001b[0m\u001b[0;34m(\u001b[0m\u001b[0marr1\u001b[0m\u001b[0;34m)\u001b[0m  \u001b[0;31m# [0 1 2 3 4]\u001b[0m\u001b[0;34m\u001b[0m\u001b[0;34m\u001b[0m\u001b[0m\n\u001b[1;32m      8\u001b[0m \u001b[0;34m\u001b[0m\u001b[0m\n",
            "\u001b[0;31mTypeError\u001b[0m: arange() got an unexpected keyword argument 'type'"
          ]
        }
      ],
      "source": [
        "# prompt: NUMPY HISTOGRAM\n",
        "\n",
        "import numpy as np\n",
        "\n",
        "# Generate an array from 0 to 4 (exclusive) with default step size 1\n",
        "arr1 = np.arange(5,1,type=np.uint8)\n",
        "print(arr1)  # [0 1 2 3 4]\n",
        "\n"
      ]
    },
    {
      "cell_type": "code",
      "source": [],
      "metadata": {
        "id": "J1XmzHsgptZg"
      },
      "execution_count": null,
      "outputs": []
    },
    {
      "cell_type": "code",
      "source": [],
      "metadata": {
        "id": "WsZxNBgypuE2"
      },
      "execution_count": null,
      "outputs": []
    },
    {
      "cell_type": "code",
      "source": [
        "import numpy as np\n",
        "\n",
        "# Example arrays\n",
        "a = np.array([1, 2,3])\n",
        "b = np.array([[10], [20], [30]])\n",
        "\n",
        "# Shapes of arrays\n",
        "print(\"Shape of a:\", a.shape)  # (3,)\n",
        "print(\"Shape of b:\", b.shape)  # (3, 1)\n",
        "\n",
        "# Broadcasting arrays 'a' and 'b'\n",
        "c = a + b\n",
        "print(\"Result of a + b:\")\n",
        "print(c)\n",
        "# Broadcasting arrays 'a' and 'b'\n",
        "c = a - b\n",
        "print(\"Result of a + b:\")\n",
        "print(c)\n"
      ],
      "metadata": {
        "colab": {
          "base_uri": "https://localhost:8080/"
        },
        "id": "je9amotubwIV",
        "outputId": "07f34f04-328e-4be3-da57-8d44c68d2e17"
      },
      "execution_count": 17,
      "outputs": [
        {
          "output_type": "stream",
          "name": "stdout",
          "text": [
            "Shape of a: (3,)\n",
            "Shape of b: (3, 1)\n",
            "Result of a + b:\n",
            "[[11 12 13]\n",
            " [21 22 23]\n",
            " [31 32 33]]\n",
            "Result of a + b:\n",
            "[[ -9  -8  -7]\n",
            " [-19 -18 -17]\n",
            " [-29 -28 -27]]\n"
          ]
        }
      ]
    },
    {
      "cell_type": "code",
      "source": [
        "swap two number\n",
        "a=10\n",
        "b=20\n",
        "a,b=b,a\n",
        "print(a,b)\n"
      ],
      "metadata": {
        "id": "PKQFvSkv_JPO"
      },
      "execution_count": null,
      "outputs": []
    },
    {
      "cell_type": "code",
      "source": [
        "import numpy as np\n",
        "\n",
        "# Example arrays\n",
        "a = np.array([1, 2])\n",
        "b = np.array([[10], [20], [30],[40]])\n",
        "\n",
        "# Shapes of arrays\n",
        "print(\"Shape of a:\", a.shape)  # (3,)\n",
        "print(\"Shape of b:\", b.shape)  # (3, 1)\n",
        "\n",
        "# Broadcasting arrays 'a' and 'b'\n",
        "c = a + b\n",
        "print(\"Result of a + b:\")\n",
        "print(c)\n",
        "# Broadcasting arrays 'a' and 'b'\n",
        "c = a - b\n",
        "print(\"Result of a + b:\")\n",
        "print(c)"
      ],
      "metadata": {
        "colab": {
          "base_uri": "https://localhost:8080/"
        },
        "id": "BVR67Bbqc0AM",
        "outputId": "ee9dd3a1-b9ca-4597-ac7b-856e63905bfb"
      },
      "execution_count": 25,
      "outputs": [
        {
          "output_type": "stream",
          "name": "stdout",
          "text": [
            "Shape of a: (2,)\n",
            "Shape of b: (4, 1)\n",
            "Result of a + b:\n",
            "[[11 12]\n",
            " [21 22]\n",
            " [31 32]\n",
            " [41 42]]\n",
            "Result of a + b:\n",
            "[[ -9  -8]\n",
            " [-19 -18]\n",
            " [-29 -28]\n",
            " [-39 -38]]\n"
          ]
        }
      ]
    },
    {
      "cell_type": "code",
      "source": [
        "hist\n",
        "filedata = np.genfromtxt('data.txt', delimiter=',')\n",
        "filedata = filedata.astype('int64')\n",
        "print(filedata)\n",
        "(filedata>50) & (filedata<100)\n"
      ],
      "metadata": {
        "colab": {
          "base_uri": "https://localhost:8080/"
        },
        "id": "BSowHerDHSRS",
        "outputId": "80153768-782c-4b69-e1fb-ac3ff785b808"
      },
      "execution_count": 12,
      "outputs": [
        {
          "output_type": "stream",
          "name": "stdout",
          "text": [
            "[[  1  13  21  11 196  75   4   3  34   6   7   8   0   1   2   3   4   5]\n",
            " [  3  42  12  33 766  75   4  55   6   4   3   4   5   6   7   0  11  12]\n",
            " [  1  22  33  11 999  11   2   1  78   0   1   2   9   8   7   1  76   8]]\n"
          ]
        },
        {
          "output_type": "execute_result",
          "data": {
            "text/plain": [
              "array([[False, False, False, False, False,  True, False, False, False,\n",
              "        False, False, False, False, False, False, False, False, False],\n",
              "       [False, False, False, False, False,  True, False,  True, False,\n",
              "        False, False, False, False, False, False, False, False, False],\n",
              "       [False, False, False, False, False, False, False, False,  True,\n",
              "        False, False, False, False, False, False, False,  True, False]])"
            ]
          },
          "metadata": {},
          "execution_count": 12
        }
      ]
    }
  ]
}